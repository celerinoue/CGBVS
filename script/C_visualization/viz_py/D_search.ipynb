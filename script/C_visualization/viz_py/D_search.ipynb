{
 "cells": [
  {
   "cell_type": "code",
   "execution_count": null,
   "metadata": {},
   "outputs": [],
   "source": [
    "import numpy as np\n",
    "import pandas as pd\n",
    "import argparse\n",
    "import json\n",
    "import joblib\n",
    "import os\n",
    "import seaborn as sns\n",
    "import matplotlib.pyplot as plt\n",
    "from matplotlib import gridspec\n"
   ]
  },
  {
   "cell_type": "code",
   "execution_count": null,
   "metadata": {},
   "outputs": [],
   "source": [
    "cd ../../"
   ]
  },
  {
   "cell_type": "code",
   "execution_count": 4,
   "metadata": {},
   "outputs": [],
   "source": [
    "dataset = \"kinase_chembl_domain_small_test\"\n",
    "model = \"model_8_2\"\n",
    "max_epoch = \"500\"\n",
    "seq_name = \"VGFR2_HUMAN\"\n",
    "PDB_ID = \"1Y6A\"\n",
    "threshold = \"5\"\n",
    "method = \"mdiff\"\n",
    "visualize_method = \"ig\"\n",
    "use_raw_ig = False\n"
   ]
  },
  {
   "cell_type": "code",
   "execution_count": null,
   "metadata": {},
   "outputs": [],
   "source": [
    "def data_load(data_dir, seq_name, epoch):\n",
    "    # data_load\n",
    "    fd = open(f'{data_dir}/vizdata_{seq_name}_{epoch}.ckpt_seq.json', mode='r')\n",
    "    data_seq = json.load(fd)\n",
    "    fd.close()\n",
    "    data_igs = joblib.load(f'{data_dir}/vizdata_{seq_name}_{epoch}.ckpt_igs.jbl')\n",
    "    data_mol = joblib.load(f'{data_dir}/vizdata_{seq_name}_{epoch}.ckpt_mol.jbl')\n",
    "    return data_seq, data_mol, data_igs\n",
    "\n",
    "\n",
    "def get_mol(PDB_ID):\n",
    "    from moleculekit.molecule import Molecule\n",
    "    print('[INFO] get PDB data...')\n",
    "    mol = Molecule(PDB_ID)\n",
    "    mol.filter('chain A')\n",
    "    # ligand name\n",
    "    ligand_name = mol.get('resname', sel='not protein')[0]\n",
    "    return mol, ligand_name\n"
   ]
  }
 ],
 "metadata": {
  "kernelspec": {
   "display_name": "Python 3.7.10 64-bit ('cgbvs')",
   "language": "python",
   "name": "python3"
  },
  "language_info": {
   "codemirror_mode": {
    "name": "ipython",
    "version": 3
   },
   "file_extension": ".py",
   "mimetype": "text/x-python",
   "name": "python",
   "nbconvert_exporter": "python",
   "pygments_lexer": "ipython3",
   "version": "3.7.10"
  },
  "orig_nbformat": 4,
  "vscode": {
   "interpreter": {
    "hash": "77b57ec9daadb32b31ec2781957ce91f65cd7af6d3207f935d33872d2e0fdf58"
   }
  }
 },
 "nbformat": 4,
 "nbformat_minor": 2
}
